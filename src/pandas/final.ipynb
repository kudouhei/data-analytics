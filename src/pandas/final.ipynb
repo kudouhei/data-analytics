{
 "cells": [
  {
   "cell_type": "code",
   "execution_count": 10,
   "metadata": {},
   "outputs": [],
   "source": [
    "import os\n",
    "\n",
    "import numpy as np\n",
    "import pandas as pd\n",
    "from pandas import Series, DataFrame"
   ]
  },
  {
   "cell_type": "code",
   "execution_count": 11,
   "metadata": {},
   "outputs": [],
   "source": [
    "# Create a data frame from the college scorecard cohorts-institutions CSV file.\n",
    "\n",
    "institutions_filename = './data/Most-Recent-Cohorts-Institution.csv.gz'\n",
    "institutions_df = pd.read_csv(institutions_filename,\n",
    "                usecols=['OPEID6', \n",
    "                         'INSTNM', 'CITY', 'STABBR', \n",
    "                         'FTFTPCTPELL', 'TUITIONFEE_IN', 'TUITIONFEE_OUT', 'ADM_RATE', \n",
    "                         'NPT4_PUB', 'NPT4_PRIV',\n",
    "                         'NPT41_PUB', 'NPT41_PRIV',\n",
    "                         'NPT45_PUB', 'NPT45_PRIV', \n",
    "                         'MD_EARN_WNE_P10', 'C100_4'])"
   ]
  },
  {
   "cell_type": "code",
   "execution_count": 12,
   "metadata": {},
   "outputs": [
    {
     "data": {
      "text/html": [
       "<div>\n",
       "<style scoped>\n",
       "    .dataframe tbody tr th:only-of-type {\n",
       "        vertical-align: middle;\n",
       "    }\n",
       "\n",
       "    .dataframe tbody tr th {\n",
       "        vertical-align: top;\n",
       "    }\n",
       "\n",
       "    .dataframe thead th {\n",
       "        text-align: right;\n",
       "    }\n",
       "</style>\n",
       "<table border=\"1\" class=\"dataframe\">\n",
       "  <thead>\n",
       "    <tr style=\"text-align: right;\">\n",
       "      <th></th>\n",
       "      <th>OPEID6</th>\n",
       "      <th>INSTNM</th>\n",
       "      <th>CITY</th>\n",
       "      <th>STABBR</th>\n",
       "      <th>ADM_RATE</th>\n",
       "      <th>NPT4_PUB</th>\n",
       "      <th>NPT4_PRIV</th>\n",
       "      <th>NPT41_PUB</th>\n",
       "      <th>NPT45_PUB</th>\n",
       "      <th>NPT41_PRIV</th>\n",
       "      <th>NPT45_PRIV</th>\n",
       "      <th>TUITIONFEE_IN</th>\n",
       "      <th>TUITIONFEE_OUT</th>\n",
       "      <th>MD_EARN_WNE_P10</th>\n",
       "      <th>C100_4</th>\n",
       "      <th>FTFTPCTPELL</th>\n",
       "    </tr>\n",
       "  </thead>\n",
       "  <tbody>\n",
       "    <tr>\n",
       "      <th>0</th>\n",
       "      <td>1002</td>\n",
       "      <td>Alabama A &amp; M University</td>\n",
       "      <td>Normal</td>\n",
       "      <td>AL</td>\n",
       "      <td>0.8965</td>\n",
       "      <td>15529.0</td>\n",
       "      <td>NaN</td>\n",
       "      <td>14694.0</td>\n",
       "      <td>20483.0</td>\n",
       "      <td>NaN</td>\n",
       "      <td>NaN</td>\n",
       "      <td>10024.0</td>\n",
       "      <td>18634.0</td>\n",
       "      <td>36339.0</td>\n",
       "      <td>0.1052</td>\n",
       "      <td>0.6925</td>\n",
       "    </tr>\n",
       "    <tr>\n",
       "      <th>1</th>\n",
       "      <td>1052</td>\n",
       "      <td>University of Alabama at Birmingham</td>\n",
       "      <td>Birmingham</td>\n",
       "      <td>AL</td>\n",
       "      <td>0.8060</td>\n",
       "      <td>16530.0</td>\n",
       "      <td>NaN</td>\n",
       "      <td>13443.0</td>\n",
       "      <td>19717.0</td>\n",
       "      <td>NaN</td>\n",
       "      <td>NaN</td>\n",
       "      <td>8568.0</td>\n",
       "      <td>20400.0</td>\n",
       "      <td>46990.0</td>\n",
       "      <td>0.3816</td>\n",
       "      <td>0.3563</td>\n",
       "    </tr>\n",
       "    <tr>\n",
       "      <th>2</th>\n",
       "      <td>25034</td>\n",
       "      <td>Amridge University</td>\n",
       "      <td>Montgomery</td>\n",
       "      <td>AL</td>\n",
       "      <td>NaN</td>\n",
       "      <td>NaN</td>\n",
       "      <td>17618.0</td>\n",
       "      <td>NaN</td>\n",
       "      <td>NaN</td>\n",
       "      <td>17385.0</td>\n",
       "      <td>NaN</td>\n",
       "      <td>6950.0</td>\n",
       "      <td>6950.0</td>\n",
       "      <td>37895.0</td>\n",
       "      <td>0.2500</td>\n",
       "      <td>0.6667</td>\n",
       "    </tr>\n",
       "    <tr>\n",
       "      <th>3</th>\n",
       "      <td>1055</td>\n",
       "      <td>University of Alabama in Huntsville</td>\n",
       "      <td>Huntsville</td>\n",
       "      <td>AL</td>\n",
       "      <td>0.7711</td>\n",
       "      <td>17208.0</td>\n",
       "      <td>NaN</td>\n",
       "      <td>13631.0</td>\n",
       "      <td>19862.0</td>\n",
       "      <td>NaN</td>\n",
       "      <td>NaN</td>\n",
       "      <td>11338.0</td>\n",
       "      <td>23734.0</td>\n",
       "      <td>54361.0</td>\n",
       "      <td>0.3109</td>\n",
       "      <td>0.2304</td>\n",
       "    </tr>\n",
       "    <tr>\n",
       "      <th>4</th>\n",
       "      <td>1005</td>\n",
       "      <td>Alabama State University</td>\n",
       "      <td>Montgomery</td>\n",
       "      <td>AL</td>\n",
       "      <td>0.9888</td>\n",
       "      <td>19534.0</td>\n",
       "      <td>NaN</td>\n",
       "      <td>19581.0</td>\n",
       "      <td>17559.0</td>\n",
       "      <td>NaN</td>\n",
       "      <td>NaN</td>\n",
       "      <td>11068.0</td>\n",
       "      <td>19396.0</td>\n",
       "      <td>32084.0</td>\n",
       "      <td>0.1462</td>\n",
       "      <td>0.7590</td>\n",
       "    </tr>\n",
       "  </tbody>\n",
       "</table>\n",
       "</div>"
      ],
      "text/plain": [
       "   OPEID6                               INSTNM        CITY STABBR  ADM_RATE  \\\n",
       "0    1002             Alabama A & M University      Normal     AL    0.8965   \n",
       "1    1052  University of Alabama at Birmingham  Birmingham     AL    0.8060   \n",
       "2   25034                   Amridge University  Montgomery     AL       NaN   \n",
       "3    1055  University of Alabama in Huntsville  Huntsville     AL    0.7711   \n",
       "4    1005             Alabama State University  Montgomery     AL    0.9888   \n",
       "\n",
       "   NPT4_PUB  NPT4_PRIV  NPT41_PUB  NPT45_PUB  NPT41_PRIV  NPT45_PRIV  \\\n",
       "0   15529.0        NaN    14694.0    20483.0         NaN         NaN   \n",
       "1   16530.0        NaN    13443.0    19717.0         NaN         NaN   \n",
       "2       NaN    17618.0        NaN        NaN     17385.0         NaN   \n",
       "3   17208.0        NaN    13631.0    19862.0         NaN         NaN   \n",
       "4   19534.0        NaN    19581.0    17559.0         NaN         NaN   \n",
       "\n",
       "   TUITIONFEE_IN  TUITIONFEE_OUT  MD_EARN_WNE_P10  C100_4  FTFTPCTPELL  \n",
       "0        10024.0         18634.0          36339.0  0.1052       0.6925  \n",
       "1         8568.0         20400.0          46990.0  0.3816       0.3563  \n",
       "2         6950.0          6950.0          37895.0  0.2500       0.6667  \n",
       "3        11338.0         23734.0          54361.0  0.3109       0.2304  \n",
       "4        11068.0         19396.0          32084.0  0.1462       0.7590  "
      ]
     },
     "execution_count": 12,
     "metadata": {},
     "output_type": "execute_result"
    }
   ],
   "source": [
    "institutions_df.head()"
   ]
  },
  {
   "cell_type": "code",
   "execution_count": 14,
   "metadata": {},
   "outputs": [],
   "source": [
    "# Load the CSV file for fields of study into another data frame\n",
    "\n",
    "fields_filename = './data/FieldOfStudyData1718_1819_PP.csv.gz'\n",
    "\n",
    "fields_of_study_df = pd.read_csv(fields_filename,\n",
    "                                usecols=['OPEID6', 'INSTNM', 'CREDDESC', 'CIPDESC', 'CONTROL'])"
   ]
  },
  {
   "cell_type": "code",
   "execution_count": 15,
   "metadata": {},
   "outputs": [
    {
     "data": {
      "text/html": [
       "<div>\n",
       "<style scoped>\n",
       "    .dataframe tbody tr th:only-of-type {\n",
       "        vertical-align: middle;\n",
       "    }\n",
       "\n",
       "    .dataframe tbody tr th {\n",
       "        vertical-align: top;\n",
       "    }\n",
       "\n",
       "    .dataframe thead th {\n",
       "        text-align: right;\n",
       "    }\n",
       "</style>\n",
       "<table border=\"1\" class=\"dataframe\">\n",
       "  <thead>\n",
       "    <tr style=\"text-align: right;\">\n",
       "      <th></th>\n",
       "      <th>OPEID6</th>\n",
       "      <th>INSTNM</th>\n",
       "      <th>CONTROL</th>\n",
       "      <th>CIPDESC</th>\n",
       "      <th>CREDDESC</th>\n",
       "    </tr>\n",
       "  </thead>\n",
       "  <tbody>\n",
       "    <tr>\n",
       "      <th>0</th>\n",
       "      <td>1002</td>\n",
       "      <td>Alabama A &amp; M University</td>\n",
       "      <td>Public</td>\n",
       "      <td>Agriculture, General.</td>\n",
       "      <td>Bachelors Degree</td>\n",
       "    </tr>\n",
       "    <tr>\n",
       "      <th>1</th>\n",
       "      <td>1002</td>\n",
       "      <td>Alabama A &amp; M University</td>\n",
       "      <td>Public</td>\n",
       "      <td>Animal Sciences.</td>\n",
       "      <td>Bachelors Degree</td>\n",
       "    </tr>\n",
       "    <tr>\n",
       "      <th>2</th>\n",
       "      <td>1002</td>\n",
       "      <td>Alabama A &amp; M University</td>\n",
       "      <td>Public</td>\n",
       "      <td>Food Science and Technology.</td>\n",
       "      <td>Bachelors Degree</td>\n",
       "    </tr>\n",
       "    <tr>\n",
       "      <th>3</th>\n",
       "      <td>1002</td>\n",
       "      <td>Alabama A &amp; M University</td>\n",
       "      <td>Public</td>\n",
       "      <td>Food Science and Technology.</td>\n",
       "      <td>Master's Degree</td>\n",
       "    </tr>\n",
       "    <tr>\n",
       "      <th>4</th>\n",
       "      <td>1002</td>\n",
       "      <td>Alabama A &amp; M University</td>\n",
       "      <td>Public</td>\n",
       "      <td>Food Science and Technology.</td>\n",
       "      <td>Doctoral Degree</td>\n",
       "    </tr>\n",
       "  </tbody>\n",
       "</table>\n",
       "</div>"
      ],
      "text/plain": [
       "   OPEID6                    INSTNM CONTROL                       CIPDESC  \\\n",
       "0    1002  Alabama A & M University  Public         Agriculture, General.   \n",
       "1    1002  Alabama A & M University  Public              Animal Sciences.   \n",
       "2    1002  Alabama A & M University  Public  Food Science and Technology.   \n",
       "3    1002  Alabama A & M University  Public  Food Science and Technology.   \n",
       "4    1002  Alabama A & M University  Public  Food Science and Technology.   \n",
       "\n",
       "           CREDDESC  \n",
       "0  Bachelors Degree  \n",
       "1  Bachelors Degree  \n",
       "2  Bachelors Degree  \n",
       "3   Master's Degree  \n",
       "4   Doctoral Degree  "
      ]
     },
     "execution_count": 15,
     "metadata": {},
     "output_type": "execute_result"
    }
   ],
   "source": [
    "fields_of_study_df.head()"
   ]
  },
  {
   "cell_type": "code",
   "execution_count": 16,
   "metadata": {},
   "outputs": [
    {
     "data": {
      "text/plain": [
       "STABBR\n",
       "CA    705\n",
       "Name: OPEID6, dtype: int64"
      ]
     },
     "execution_count": 16,
     "metadata": {},
     "output_type": "execute_result"
    }
   ],
   "source": [
    "# What state has the greatest number of universities in this database?\n",
    "\n",
    "(\n",
    "    institutions_df\n",
    "    .groupby('STABBR')['OPEID6'].count()\n",
    "    .sort_values(ascending=False)\n",
    "    .head(1)\n",
    ")"
   ]
  },
  {
   "cell_type": "code",
   "execution_count": 17,
   "metadata": {},
   "outputs": [
    {
     "data": {
      "text/plain": [
       "STABBR  CITY    \n",
       "NY      New York    81\n",
       "Name: OPEID6, dtype: int64"
      ]
     },
     "execution_count": 17,
     "metadata": {},
     "output_type": "execute_result"
    }
   ],
   "source": [
    "# What city+state has the greatest number of universities in this database?\n",
    "\n",
    "(\n",
    "    institutions_df\n",
    "    .groupby(['STABBR', 'CITY'])['OPEID6'].count()\n",
    "    .sort_values(ascending=False)\n",
    "    .head(1)\n",
    ")\n",
    "# What is the most popular major?\n",
    "\n",
    "\n"
   ]
  },
  {
   "cell_type": "code",
   "execution_count": 18,
   "metadata": {},
   "outputs": [
    {
     "name": "stdout",
     "output_type": "stream",
     "text": [
      "2,105,663\n"
     ]
    }
   ],
   "source": [
    "# How much memory can we save if we set the CITY and STABBR columns in institutions_df to be categories?\n",
    "pre_category_memory = (\n",
    "    institutions_df\n",
    "    .memory_usage(deep=True)\n",
    "    .sum()\n",
    ")\n",
    "\n",
    "print(f'{pre_category_memory:,}')"
   ]
  },
  {
   "cell_type": "code",
   "execution_count": 19,
   "metadata": {},
   "outputs": [
    {
     "name": "stdout",
     "output_type": "stream",
     "text": [
      "579,371\n"
     ]
    }
   ],
   "source": [
    "institutions_df['CITY'] = (\n",
    "    institutions_df['CITY']\n",
    "    .astype('category')\n",
    ")\n",
    "\n",
    "institutions_df['STABBR'] = (\n",
    "    institutions_df['STABBR']\n",
    "    .astype('category')\n",
    ")\n",
    "\n",
    "post_category_memory = (\n",
    "    institutions_df\n",
    "    .memory_usage(deep=True)\n",
    "    .sum()\n",
    ")\n",
    "\n",
    "savings = pre_category_memory - post_category_memory\n",
    "print(f'{savings:,}')"
   ]
  },
  {
   "cell_type": "code",
   "execution_count": 20,
   "metadata": {},
   "outputs": [
    {
     "data": {
      "image/png": "[encoded data removed]",
      "text/plain": [
       "<Figure size 640x480 with 1 Axes>"
      ]
     },
     "metadata": {},
     "output_type": "display_data"
    }
   ],
   "source": [
    "# Create a histogram showing how many bachelor programs universities offer\n",
    "p = (\n",
    "    fields_of_study_df\n",
    "    .loc[fields_of_study_df['CREDDESC'] == 'Bachelors Degree']\n",
    "    .groupby('INSTNM')['CIPDESC'].count()\n",
    "    .plot.hist()\n",
    ")\n",
    "\n",
    "f = p.get_figure()\n",
    "f.savefig('/tmp/CH12_F1_LERNER.jpg')"
   ]
  },
  {
   "cell_type": "code",
   "execution_count": 21,
   "metadata": {},
   "outputs": [
    {
     "data": {
      "text/plain": [
       "INSTNM\n",
       "Westminster College                          165\n",
       "Pennsylvania State University-Main Campus    141\n",
       "University of Washington-Seattle Campus      137\n",
       "Ohio State University-Main Campus            126\n",
       "Bethel University                            125\n",
       "University of Minnesota-Twin Cities          116\n",
       "Arizona State University Campus Immersion    116\n",
       "University of Arizona                        116\n",
       "Anderson University                          114\n",
       "Purdue University-Main Campus                114\n",
       "Name: CIPDESC, dtype: int64"
      ]
     },
     "execution_count": 21,
     "metadata": {},
     "output_type": "execute_result"
    }
   ],
   "source": [
    "# Which university offers the greatest number of bachelor programs?\n",
    "(\n",
    "    fields_of_study_df\n",
    "    .loc[fields_of_study_df['CREDDESC'] == 'Bachelors Degree']\n",
    "    .groupby('INSTNM')['CIPDESC'].count()\n",
    "    .sort_values(ascending=False)\n",
    "    .head(10)\n",
    ")"
   ]
  }
 ],
 "metadata": {
  "kernelspec": {
   "display_name": "Python 3",
   "language": "python",
   "name": "python3"
  },
  "language_info": {
   "codemirror_mode": {
    "name": "ipython",
    "version": 3
   },
   "file_extension": ".py",
   "mimetype": "text/x-python",
   "name": "python",
   "nbconvert_exporter": "python",
   "pygments_lexer": "ipython3",
   "version": "3.11.11"
  }
 },
 "nbformat": 4,
 "nbformat_minor": 2
}
