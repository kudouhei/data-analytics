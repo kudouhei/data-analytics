{
 "cells": [
  {
   "cell_type": "code",
   "execution_count": 2,
   "metadata": {},
   "outputs": [],
   "source": [
    "import numpy as np\n",
    "import pandas as pd\n",
    "from pandas import Series, DataFrame"
   ]
  },
  {
   "cell_type": "code",
   "execution_count": 9,
   "metadata": {},
   "outputs": [
    {
     "data": {
      "text/plain": [
       "0         ﻿The\n",
       "1      Project\n",
       "2    Gutenberg\n",
       "3        EBook\n",
       "4           of\n",
       "dtype: object"
      ]
     },
     "execution_count": 9,
     "metadata": {},
     "output_type": "execute_result"
    }
   ],
   "source": [
    "# Open the file `alice-in-wonderland.txt`, and read it into a `pandas` series\n",
    "# or data frame, such that each word is a separate value.\n",
    "filename = '../data/alice-in-wonderland.txt'\n",
    "\n",
    "s = Series(open(filename).read().split())\n",
    "s.head()"
   ]
  },
  {
   "cell_type": "code",
   "execution_count": 10,
   "metadata": {},
   "outputs": [
    {
     "data": {
      "text/plain": [
       "the     732\n",
       "and     362\n",
       "a       321\n",
       "to      311\n",
       "of      300\n",
       "in      211\n",
       "she     197\n",
       "was     160\n",
       "said    129\n",
       "it      122\n",
       "Name: count, dtype: int64"
      ]
     },
     "execution_count": 10,
     "metadata": {},
     "output_type": "execute_result"
    }
   ],
   "source": [
    "s.value_counts().head(10)"
   ]
  },
  {
   "cell_type": "code",
   "execution_count": 11,
   "metadata": {},
   "outputs": [
    {
     "data": {
      "text/plain": [
       "the    792\n",
       "and    379\n",
       "a      325\n",
       "to     318\n",
       "of     313\n",
       "she    232\n",
       "in     222\n",
       "was    160\n",
       "you    141\n",
       "it     136\n",
       "Name: count, dtype: int64"
      ]
     },
     "execution_count": 11,
     "metadata": {},
     "output_type": "execute_result"
    }
   ],
   "source": [
    "(\n",
    "    s\n",
    "    .str\n",
    "    .lower()\n",
    "    .value_counts()\n",
    "    .head(10)\n",
    ")"
   ]
  },
  {
   "cell_type": "code",
   "execution_count": 6,
   "metadata": {},
   "outputs": [
    {
     "data": {
      "text/plain": [
       "0    4\n",
       "1    2\n",
       "2    1\n",
       "3    4\n",
       "4    3\n",
       "5    3\n",
       "dtype: int64"
      ]
     },
     "execution_count": 6,
     "metadata": {},
     "output_type": "execute_result"
    }
   ],
   "source": [
    "# s = Series('this is a test 123 456'.split())\n",
    "# # Getting the lengths of all strings in a series with .str.len()\n",
    "# s.str.len()"
   ]
  },
  {
   "cell_type": "code",
   "execution_count": 12,
   "metadata": {},
   "outputs": [
    {
     "data": {
      "text/plain": [
       "the      735\n",
       "and      384\n",
       "a        322\n",
       "to       320\n",
       "of       303\n",
       "in       214\n",
       "she      201\n",
       "was      167\n",
       "Alice    166\n",
       "it       164\n",
       "Name: count, dtype: int64"
      ]
     },
     "execution_count": 12,
     "metadata": {},
     "output_type": "execute_result"
    }
   ],
   "source": [
    "import string \n",
    "\n",
    "(\n",
    "    s\n",
    "    .str\n",
    "    .strip(string.punctuation)\n",
    "    .value_counts()\n",
    "    .head(10)\n",
    ")"
   ]
  },
  {
   "cell_type": "code",
   "execution_count": 14,
   "metadata": {},
   "outputs": [
    {
     "data": {
      "text/plain": [
       "np.int64(1100)"
      ]
     },
     "execution_count": 14,
     "metadata": {},
     "output_type": "execute_result"
    }
   ],
   "source": [
    "# How many capitalized words does the book contain?\n",
    "\n",
    "(\n",
    "    s\n",
    "    .loc[s.str.contains('^[A-Z]\\w*$',\n",
    "                        regex=True)]\n",
    "    .count()\n",
    ")"
   ]
  },
  {
   "cell_type": "code",
   "execution_count": 15,
   "metadata": {},
   "outputs": [],
   "source": [
    "words = {one_word.strip() for one_word in open('../data/words.txt')}\n"
   ]
  },
  {
   "cell_type": "code",
   "execution_count": 16,
   "metadata": {},
   "outputs": [
    {
     "data": {
      "text/plain": [
       "Project      83\n",
       "She          36\n",
       "Rabbit       28\n",
       "Queen        27\n",
       "Gutenberg    27\n",
       "             ..\n",
       "reasons       1\n",
       "knocked       1\n",
       "curls         1\n",
       "From          1\n",
       "includes      1\n",
       "Name: count, Length: 758, dtype: int64"
      ]
     },
     "execution_count": 16,
     "metadata": {},
     "output_type": "execute_result"
    }
   ],
   "source": [
    "(\n",
    "    s\n",
    "    .str.strip(string.punctuation)      # Strip punctuation\n",
    "    .loc[lambda s_: s_.str.isalpha()]   # Keep only those with letters\n",
    "    .loc[lambda s_: ~s_.isin(words)]    # Now keep those *not* in the dictionary, and find the most common ones\n",
    "    .value_counts()\n",
    ")"
   ]
  },
  {
   "cell_type": "code",
   "execution_count": 17,
   "metadata": {},
   "outputs": [
    {
     "data": {
      "text/html": [
       "<div>\n",
       "<style scoped>\n",
       "    .dataframe tbody tr th:only-of-type {\n",
       "        vertical-align: middle;\n",
       "    }\n",
       "\n",
       "    .dataframe tbody tr th {\n",
       "        vertical-align: top;\n",
       "    }\n",
       "\n",
       "    .dataframe thead th {\n",
       "        text-align: right;\n",
       "    }\n",
       "</style>\n",
       "<table border=\"1\" class=\"dataframe\">\n",
       "  <thead>\n",
       "    <tr style=\"text-align: right;\">\n",
       "      <th></th>\n",
       "      <th>country</th>\n",
       "      <th>description</th>\n",
       "      <th>province</th>\n",
       "      <th>variety</th>\n",
       "    </tr>\n",
       "  </thead>\n",
       "  <tbody>\n",
       "    <tr>\n",
       "      <th>0</th>\n",
       "      <td>US</td>\n",
       "      <td>This tremendous 100% varietal wine hails from ...</td>\n",
       "      <td>California</td>\n",
       "      <td>Cabernet Sauvignon</td>\n",
       "    </tr>\n",
       "    <tr>\n",
       "      <th>1</th>\n",
       "      <td>Spain</td>\n",
       "      <td>Ripe aromas of fig, blackberry and cassis are ...</td>\n",
       "      <td>Northern Spain</td>\n",
       "      <td>Tinta de Toro</td>\n",
       "    </tr>\n",
       "    <tr>\n",
       "      <th>2</th>\n",
       "      <td>US</td>\n",
       "      <td>Mac Watson honors the memory of a wine once ma...</td>\n",
       "      <td>California</td>\n",
       "      <td>Sauvignon Blanc</td>\n",
       "    </tr>\n",
       "    <tr>\n",
       "      <th>3</th>\n",
       "      <td>US</td>\n",
       "      <td>This spent 20 months in 30% new French oak, an...</td>\n",
       "      <td>Oregon</td>\n",
       "      <td>Pinot Noir</td>\n",
       "    </tr>\n",
       "    <tr>\n",
       "      <th>4</th>\n",
       "      <td>France</td>\n",
       "      <td>This is the top wine from La Bégude, named aft...</td>\n",
       "      <td>Provence</td>\n",
       "      <td>Provence red blend</td>\n",
       "    </tr>\n",
       "  </tbody>\n",
       "</table>\n",
       "</div>"
      ],
      "text/plain": [
       "  country                                        description        province  \\\n",
       "0      US  This tremendous 100% varietal wine hails from ...      California   \n",
       "1   Spain  Ripe aromas of fig, blackberry and cassis are ...  Northern Spain   \n",
       "2      US  Mac Watson honors the memory of a wine once ma...      California   \n",
       "3      US  This spent 20 months in 30% new French oak, an...          Oregon   \n",
       "4  France  This is the top wine from La Bégude, named aft...        Provence   \n",
       "\n",
       "              variety  \n",
       "0  Cabernet Sauvignon  \n",
       "1       Tinta de Toro  \n",
       "2     Sauvignon Blanc  \n",
       "3          Pinot Noir  \n",
       "4  Provence red blend  "
      ]
     },
     "execution_count": 17,
     "metadata": {},
     "output_type": "execute_result"
    }
   ],
   "source": [
    "# Open the file `winemag-150k-reviews.csv`, and read it into a data frame\n",
    "filename = '../data/winemag-150k-reviews.csv'\n",
    "\n",
    "df = pd.read_csv(filename,\n",
    "                usecols=['country','province','description', 'variety'])\n",
    "df.head()"
   ]
  },
  {
   "cell_type": "code",
   "execution_count": 18,
   "metadata": {},
   "outputs": [
    {
     "data": {
      "text/plain": [
       "description\n",
       "fruit      56327\n",
       "acidity    32536\n",
       "tannins    32098\n",
       "cherry     30639\n",
       "black      24568\n",
       "spice      22601\n",
       "sweet      21243\n",
       "notes      19581\n",
       "fresh      17641\n",
       "berry      17083\n",
       "Name: count, dtype: int64"
      ]
     },
     "execution_count": 18,
     "metadata": {},
     "output_type": "execute_result"
    }
   ],
   "source": [
    "# What are the 10 most common words containing 5 or more letters in the wine descriptions?\n",
    "# Turn all words into lowercase, and remove all punctuation and symbols at the start or end of each word,\n",
    "# for easier comparison.\n",
    "\n",
    "# Also: remove the words flavors, aromas, finish, and drink.\n",
    "\n",
    "def top_10_words(s):\n",
    "    common_wine_words = ['flavors', 'aromas',\n",
    "            'finish', 'drink', 'palate']\n",
    "    \n",
    "    words = (\n",
    "        s\n",
    "        .str.lower()\n",
    "        .str.split()\n",
    "        .explode()\n",
    "        .str.strip(',$.?!$%')\n",
    "    )\n",
    "\n",
    "    return (\n",
    "        words\n",
    "        .loc[(words.str.len() >=5) &\n",
    "             (~words.isin(common_wine_words))]\n",
    "        .value_counts()\n",
    "        .head(10)\n",
    "    )\n",
    "\n",
    "top_10_words(df['description'])\n",
    "# How many wines are there per country?\n",
    "\n"
   ]
  },
  {
   "cell_type": "code",
   "execution_count": 19,
   "metadata": {},
   "outputs": [
    {
     "data": {
      "text/plain": [
       "description\n",
       "fruit      46371\n",
       "acidity    22270\n",
       "tannins    21929\n",
       "cherry     19440\n",
       "spice      18522\n",
       "black      17758\n",
       "notes      16569\n",
       "fresh      16200\n",
       "berry      15478\n",
       "sweet      12708\n",
       "Name: count, dtype: int64"
      ]
     },
     "execution_count": 19,
     "metadata": {},
     "output_type": "execute_result"
    }
   ],
   "source": [
    "# What are the 10 most common words for non-California wines?\n",
    "top_10_words(df.loc[df['province'] != 'California', 'description'])"
   ]
  },
  {
   "cell_type": "code",
   "execution_count": 20,
   "metadata": {},
   "outputs": [
    {
     "data": {
      "text/plain": [
       "description\n",
       "fruit        8688\n",
       "acidity      8632\n",
       "tannins      6491\n",
       "fruits       5449\n",
       "fresh        4213\n",
       "character    3494\n",
       "black        3119\n",
       "texture      3069\n",
       "years        2880\n",
       "crisp        2875\n",
       "Name: count, dtype: int64"
      ]
     },
     "execution_count": 20,
     "metadata": {},
     "output_type": "execute_result"
    }
   ],
   "source": [
    "# What are the 10 most common words for French wines?\n",
    "top_10_words(df.loc[df['country'] == 'France', 'description'])"
   ]
  },
  {
   "cell_type": "code",
   "execution_count": 21,
   "metadata": {},
   "outputs": [
    {
     "data": {
      "text/plain": [
       "description\n",
       "fruit         9133\n",
       "acidity       8346\n",
       "apple         5879\n",
       "citrus        5368\n",
       "crisp         4903\n",
       "chardonnay    4871\n",
       "green         4177\n",
       "notes         4021\n",
       "sweet         3850\n",
       "pineapple     3847\n",
       "Name: count, dtype: int64"
      ]
     },
     "execution_count": 21,
     "metadata": {},
     "output_type": "execute_result"
    }
   ],
   "source": [
    "# What are the 10 most common words for white wines?\n",
    "\n",
    "top_10_words(\n",
    "    df\n",
    "    .loc[df['variety']\n",
    "         .isin(['Chardonnay', \n",
    "                'Sauvignon Blanc', \n",
    "                'Riesling']), \n",
    "    'description']\n",
    ")"
   ]
  },
  {
   "cell_type": "code",
   "execution_count": null,
   "metadata": {},
   "outputs": [],
   "source": []
  }
 ],
 "metadata": {
  "kernelspec": {
   "display_name": "Python 3",
   "language": "python",
   "name": "python3"
  },
  "language_info": {
   "codemirror_mode": {
    "name": "ipython",
    "version": 3
   },
   "file_extension": ".py",
   "mimetype": "text/x-python",
   "name": "python",
   "nbconvert_exporter": "python",
   "pygments_lexer": "ipython3",
   "version": "3.11.11"
  }
 },
 "nbformat": 4,
 "nbformat_minor": 2
}
