{
 "cells": [
  {
   "cell_type": "code",
   "execution_count": 3,
   "metadata": {},
   "outputs": [],
   "source": [
    "import numpy as np\n",
    "import pandas as pd\n",
    "from pandas import Series, DataFrame"
   ]
  },
  {
   "cell_type": "code",
   "execution_count": null,
   "metadata": {},
   "outputs": [
    {
     "name": "stdout",
     "output_type": "stream",
     "text": [
      "Loading ../data/san+francisco,ca.csv...\n",
      "Loading ../data/new+york,ny.csv...\n",
      "Loading ../data/springfield,ma.csv...\n",
      "Loading ../data/boston,ma.csv...\n",
      "Loading ../data/springfield,il.csv...\n",
      "Loading ../data/albany,ny.csv...\n",
      "Loading ../data/los+angeles,ca.csv...\n",
      "Loading ../data/chicago,il.csv...\n"
     ]
    }
   ],
   "source": [
    "# Load min-temp and max-temp data from multiple cities\n",
    "# Turn all of that data into a single data frame with state, city, date, min, and max temp\n",
    "\n",
    "import glob\n",
    "\n",
    "all_dfs = [] \n",
    "\n",
    "for one_filename in glob.glob('../data/*,*.csv'): \n",
    "    print(f'Loading {one_filename}...')\n",
    "\n",
    "    city, state = (\n",
    "        one_filename\n",
    "        .removeprefix('../data/')\n",
    "        .removesuffix('.csv')\n",
    "        .split(',')\n",
    "    )\n",
    "\n",
    "    one_df = (\n",
    "        pd\n",
    "        .read_csv(one_filename,\n",
    "                  usecols=[0, 1, 2], \n",
    "                  names=['date_time',\n",
    "                         'max_temp',\n",
    "                         'min_temp'], \n",
    "                  header=0) \n",
    "        .assign(city=city.replace('+', ' ').title(), \n",
    "                state=state.upper()) \n",
    "    )\n",
    "\n",
    "    all_dfs.append(one_df) \n",
    "\n",
    "df = pd.concat(all_dfs)\n"
   ]
  },
  {
   "cell_type": "code",
   "execution_count": 9,
   "metadata": {},
   "outputs": [
    {
     "data": {
      "text/plain": [
       "state  city         \n",
       "CA     Los Angeles      2018-12-11 00:00:00\n",
       "       San Francisco    2018-12-11 00:00:00\n",
       "IL     Chicago          2018-12-11 00:00:00\n",
       "       Springfield      2018-12-11 00:00:00\n",
       "MA     Boston           2018-12-11 00:00:00\n",
       "       Springfield      2018-12-11 00:00:00\n",
       "NY     Albany           2018-12-11 00:00:00\n",
       "       New York         2018-12-11 00:00:00\n",
       "Name: date_time, dtype: object"
      ]
     },
     "execution_count": 9,
     "metadata": {},
     "output_type": "execute_result"
    }
   ],
   "source": [
    "df.groupby(['state', 'city'])['date_time'].min().sort_values()"
   ]
  },
  {
   "cell_type": "code",
   "execution_count": 10,
   "metadata": {},
   "outputs": [
    {
     "data": {
      "text/plain": [
       "state  city         \n",
       "CA     Los Angeles      2019-03-11 21:00:00\n",
       "       San Francisco    2019-03-11 21:00:00\n",
       "IL     Chicago          2019-03-11 21:00:00\n",
       "       Springfield      2019-03-11 21:00:00\n",
       "MA     Boston           2019-03-11 21:00:00\n",
       "       Springfield      2019-03-11 21:00:00\n",
       "NY     Albany           2019-03-11 21:00:00\n",
       "       New York         2019-03-11 21:00:00\n",
       "Name: date_time, dtype: object"
      ]
     },
     "execution_count": 10,
     "metadata": {},
     "output_type": "execute_result"
    }
   ],
   "source": [
    "df.groupby(['state', 'city'])['date_time'].max().sort_values()"
   ]
  },
  {
   "cell_type": "code",
   "execution_count": 11,
   "metadata": {},
   "outputs": [
    {
     "data": {
      "text/html": [
       "<div>\n",
       "<style scoped>\n",
       "    .dataframe tbody tr th:only-of-type {\n",
       "        vertical-align: middle;\n",
       "    }\n",
       "\n",
       "    .dataframe tbody tr th {\n",
       "        vertical-align: top;\n",
       "    }\n",
       "\n",
       "    .dataframe thead th {\n",
       "        text-align: right;\n",
       "    }\n",
       "</style>\n",
       "<table border=\"1\" class=\"dataframe\">\n",
       "  <thead>\n",
       "    <tr style=\"text-align: right;\">\n",
       "      <th></th>\n",
       "      <th></th>\n",
       "      <th>min</th>\n",
       "      <th>max</th>\n",
       "    </tr>\n",
       "    <tr>\n",
       "      <th>state</th>\n",
       "      <th>city</th>\n",
       "      <th></th>\n",
       "      <th></th>\n",
       "    </tr>\n",
       "  </thead>\n",
       "  <tbody>\n",
       "    <tr>\n",
       "      <th rowspan=\"2\" valign=\"top\">CA</th>\n",
       "      <th>Los Angeles</th>\n",
       "      <td>2018-12-11 00:00:00</td>\n",
       "      <td>2019-03-11 21:00:00</td>\n",
       "    </tr>\n",
       "    <tr>\n",
       "      <th>San Francisco</th>\n",
       "      <td>2018-12-11 00:00:00</td>\n",
       "      <td>2019-03-11 21:00:00</td>\n",
       "    </tr>\n",
       "    <tr>\n",
       "      <th rowspan=\"2\" valign=\"top\">IL</th>\n",
       "      <th>Chicago</th>\n",
       "      <td>2018-12-11 00:00:00</td>\n",
       "      <td>2019-03-11 21:00:00</td>\n",
       "    </tr>\n",
       "    <tr>\n",
       "      <th>Springfield</th>\n",
       "      <td>2018-12-11 00:00:00</td>\n",
       "      <td>2019-03-11 21:00:00</td>\n",
       "    </tr>\n",
       "    <tr>\n",
       "      <th rowspan=\"2\" valign=\"top\">MA</th>\n",
       "      <th>Boston</th>\n",
       "      <td>2018-12-11 00:00:00</td>\n",
       "      <td>2019-03-11 21:00:00</td>\n",
       "    </tr>\n",
       "    <tr>\n",
       "      <th>Springfield</th>\n",
       "      <td>2018-12-11 00:00:00</td>\n",
       "      <td>2019-03-11 21:00:00</td>\n",
       "    </tr>\n",
       "    <tr>\n",
       "      <th rowspan=\"2\" valign=\"top\">NY</th>\n",
       "      <th>Albany</th>\n",
       "      <td>2018-12-11 00:00:00</td>\n",
       "      <td>2019-03-11 21:00:00</td>\n",
       "    </tr>\n",
       "    <tr>\n",
       "      <th>New York</th>\n",
       "      <td>2018-12-11 00:00:00</td>\n",
       "      <td>2019-03-11 21:00:00</td>\n",
       "    </tr>\n",
       "  </tbody>\n",
       "</table>\n",
       "</div>"
      ],
      "text/plain": [
       "                                     min                  max\n",
       "state city                                                   \n",
       "CA    Los Angeles    2018-12-11 00:00:00  2019-03-11 21:00:00\n",
       "      San Francisco  2018-12-11 00:00:00  2019-03-11 21:00:00\n",
       "IL    Chicago        2018-12-11 00:00:00  2019-03-11 21:00:00\n",
       "      Springfield    2018-12-11 00:00:00  2019-03-11 21:00:00\n",
       "MA    Boston         2018-12-11 00:00:00  2019-03-11 21:00:00\n",
       "      Springfield    2018-12-11 00:00:00  2019-03-11 21:00:00\n",
       "NY    Albany         2018-12-11 00:00:00  2019-03-11 21:00:00\n",
       "      New York       2018-12-11 00:00:00  2019-03-11 21:00:00"
      ]
     },
     "execution_count": 11,
     "metadata": {},
     "output_type": "execute_result"
    }
   ],
   "source": [
    "df.groupby(['state', 'city'])['date_time'].agg(['min', 'max'])"
   ]
  },
  {
   "cell_type": "code",
   "execution_count": 12,
   "metadata": {},
   "outputs": [
    {
     "data": {
      "text/plain": [
       "state  city         \n",
       "CA     Los Angeles       4\n",
       "       San Francisco     3\n",
       "IL     Chicago         -28\n",
       "       Springfield     -25\n",
       "MA     Boston          -14\n",
       "       Springfield     -20\n",
       "NY     Albany          -19\n",
       "       New York        -14\n",
       "Name: min_temp, dtype: int64"
      ]
     },
     "execution_count": 12,
     "metadata": {},
     "output_type": "execute_result"
    }
   ],
   "source": [
    "df.groupby(['state', 'city'])['min_temp'].min()"
   ]
  },
  {
   "cell_type": "code",
   "execution_count": 13,
   "metadata": {},
   "outputs": [
    {
     "data": {
      "text/html": [
       "<div>\n",
       "<style scoped>\n",
       "    .dataframe tbody tr th:only-of-type {\n",
       "        vertical-align: middle;\n",
       "    }\n",
       "\n",
       "    .dataframe tbody tr th {\n",
       "        vertical-align: top;\n",
       "    }\n",
       "\n",
       "    .dataframe thead th {\n",
       "        text-align: right;\n",
       "    }\n",
       "</style>\n",
       "<table border=\"1\" class=\"dataframe\">\n",
       "  <thead>\n",
       "    <tr style=\"text-align: right;\">\n",
       "      <th></th>\n",
       "      <th></th>\n",
       "      <th></th>\n",
       "      <th>min_temp</th>\n",
       "      <th>max_temp</th>\n",
       "    </tr>\n",
       "    <tr>\n",
       "      <th>state</th>\n",
       "      <th>city</th>\n",
       "      <th></th>\n",
       "      <th></th>\n",
       "      <th></th>\n",
       "    </tr>\n",
       "  </thead>\n",
       "  <tbody>\n",
       "    <tr>\n",
       "      <th rowspan=\"5\" valign=\"top\">CA</th>\n",
       "      <th rowspan=\"5\" valign=\"top\">Los Angeles</th>\n",
       "      <th>count</th>\n",
       "      <td>728.000000</td>\n",
       "      <td>728.000000</td>\n",
       "    </tr>\n",
       "    <tr>\n",
       "      <th>mean</th>\n",
       "      <td>10.637363</td>\n",
       "      <td>17.054945</td>\n",
       "    </tr>\n",
       "    <tr>\n",
       "      <th>std</th>\n",
       "      <td>2.705200</td>\n",
       "      <td>2.708640</td>\n",
       "    </tr>\n",
       "    <tr>\n",
       "      <th>min</th>\n",
       "      <td>4.000000</td>\n",
       "      <td>12.000000</td>\n",
       "    </tr>\n",
       "    <tr>\n",
       "      <th>25%</th>\n",
       "      <td>9.000000</td>\n",
       "      <td>15.000000</td>\n",
       "    </tr>\n",
       "    <tr>\n",
       "      <th>...</th>\n",
       "      <th>...</th>\n",
       "      <th>...</th>\n",
       "      <td>...</td>\n",
       "      <td>...</td>\n",
       "    </tr>\n",
       "    <tr>\n",
       "      <th rowspan=\"5\" valign=\"top\">NY</th>\n",
       "      <th rowspan=\"5\" valign=\"top\">New York</th>\n",
       "      <th>min</th>\n",
       "      <td>-14.000000</td>\n",
       "      <td>-12.000000</td>\n",
       "    </tr>\n",
       "    <tr>\n",
       "      <th>25%</th>\n",
       "      <td>-4.000000</td>\n",
       "      <td>2.000000</td>\n",
       "    </tr>\n",
       "    <tr>\n",
       "      <th>50%</th>\n",
       "      <td>0.000000</td>\n",
       "      <td>4.000000</td>\n",
       "    </tr>\n",
       "    <tr>\n",
       "      <th>75%</th>\n",
       "      <td>2.000000</td>\n",
       "      <td>7.000000</td>\n",
       "    </tr>\n",
       "    <tr>\n",
       "      <th>max</th>\n",
       "      <td>12.000000</td>\n",
       "      <td>15.000000</td>\n",
       "    </tr>\n",
       "  </tbody>\n",
       "</table>\n",
       "<p>64 rows × 2 columns</p>\n",
       "</div>"
      ],
      "text/plain": [
       "                           min_temp    max_temp\n",
       "state city                                     \n",
       "CA    Los Angeles count  728.000000  728.000000\n",
       "                  mean    10.637363   17.054945\n",
       "                  std      2.705200    2.708640\n",
       "                  min      4.000000   12.000000\n",
       "                  25%      9.000000   15.000000\n",
       "...                             ...         ...\n",
       "NY    New York    min    -14.000000  -12.000000\n",
       "                  25%     -4.000000    2.000000\n",
       "                  50%      0.000000    4.000000\n",
       "                  75%      2.000000    7.000000\n",
       "                  max     12.000000   15.000000\n",
       "\n",
       "[64 rows x 2 columns]"
      ]
     },
     "execution_count": 13,
     "metadata": {},
     "output_type": "execute_result"
    }
   ],
   "source": [
    "# Grouping by state-city combinations, get the min and max temperatures\n",
    "# Then apply the `describe` method, which returns a data frame\n",
    "df.groupby(['state', 'city'])[['min_temp', 'max_temp']].apply(DataFrame.describe)"
   ]
  },
  {
   "cell_type": "code",
   "execution_count": 14,
   "metadata": {},
   "outputs": [
    {
     "name": "stdout",
     "output_type": "stream",
     "text": [
      "Loading ../data/san+francisco,ca.csv...\n",
      "Loading ../data/new+york,ny.csv...\n",
      "Loading ../data/springfield,ma.csv...\n",
      "Loading ../data/boston,ma.csv...\n",
      "Loading ../data/springfield,il.csv...\n",
      "Loading ../data/albany,ny.csv...\n",
      "Loading ../data/los+angeles,ca.csv...\n",
      "Loading ../data/chicago,il.csv...\n"
     ]
    },
    {
     "data": {
      "text/html": [
       "<div>\n",
       "<style scoped>\n",
       "    .dataframe tbody tr th:only-of-type {\n",
       "        vertical-align: middle;\n",
       "    }\n",
       "\n",
       "    .dataframe tbody tr th {\n",
       "        vertical-align: top;\n",
       "    }\n",
       "\n",
       "    .dataframe thead th {\n",
       "        text-align: right;\n",
       "    }\n",
       "</style>\n",
       "<table border=\"1\" class=\"dataframe\">\n",
       "  <thead>\n",
       "    <tr style=\"text-align: right;\">\n",
       "      <th></th>\n",
       "      <th>max_temp</th>\n",
       "      <th>min_temp</th>\n",
       "      <th>precipMM</th>\n",
       "      <th>city</th>\n",
       "      <th>state</th>\n",
       "    </tr>\n",
       "  </thead>\n",
       "  <tbody>\n",
       "    <tr>\n",
       "      <th>0</th>\n",
       "      <td>13</td>\n",
       "      <td>8</td>\n",
       "      <td>0.0</td>\n",
       "      <td>San Francisco</td>\n",
       "      <td>CA</td>\n",
       "    </tr>\n",
       "    <tr>\n",
       "      <th>1</th>\n",
       "      <td>13</td>\n",
       "      <td>8</td>\n",
       "      <td>0.0</td>\n",
       "      <td>San Francisco</td>\n",
       "      <td>CA</td>\n",
       "    </tr>\n",
       "    <tr>\n",
       "      <th>2</th>\n",
       "      <td>13</td>\n",
       "      <td>8</td>\n",
       "      <td>0.0</td>\n",
       "      <td>San Francisco</td>\n",
       "      <td>CA</td>\n",
       "    </tr>\n",
       "    <tr>\n",
       "      <th>3</th>\n",
       "      <td>13</td>\n",
       "      <td>8</td>\n",
       "      <td>0.0</td>\n",
       "      <td>San Francisco</td>\n",
       "      <td>CA</td>\n",
       "    </tr>\n",
       "    <tr>\n",
       "      <th>4</th>\n",
       "      <td>13</td>\n",
       "      <td>8</td>\n",
       "      <td>0.0</td>\n",
       "      <td>San Francisco</td>\n",
       "      <td>CA</td>\n",
       "    </tr>\n",
       "  </tbody>\n",
       "</table>\n",
       "</div>"
      ],
      "text/plain": [
       "   max_temp  min_temp  precipMM           city state\n",
       "0        13         8       0.0  San Francisco    CA\n",
       "1        13         8       0.0  San Francisco    CA\n",
       "2        13         8       0.0  San Francisco    CA\n",
       "3        13         8       0.0  San Francisco    CA\n",
       "4        13         8       0.0  San Francisco    CA"
      ]
     },
     "execution_count": 14,
     "metadata": {},
     "output_type": "execute_result"
    }
   ],
   "source": [
    "import glob\n",
    "\n",
    "all_dfs = []\n",
    "\n",
    "for one_filename in glob.glob('../data/*,*.csv'):\n",
    "    print(f'Loading {one_filename}...')\n",
    "    city, state = one_filename.removeprefix('../data/').removesuffix('.csv').split(',')\n",
    "    one_df = pd.read_csv(one_filename, \n",
    "                     usecols=[1, 2, 19],\n",
    "                     names=['max_temp', 'min_temp', 'precipMM'],\n",
    "                     header=0)\n",
    "    one_df['city'] = city.replace('+', ' ').title()\n",
    "    one_df['state'] = state.upper()\n",
    "    all_dfs.append(one_df)\n",
    "\n",
    "df = pd.concat(all_dfs)\n",
    "df.head()"
   ]
  },
  {
   "cell_type": "code",
   "execution_count": 15,
   "metadata": {},
   "outputs": [
    {
     "data": {
      "text/html": [
       "<div>\n",
       "<style scoped>\n",
       "    .dataframe tbody tr th:only-of-type {\n",
       "        vertical-align: middle;\n",
       "    }\n",
       "\n",
       "    .dataframe tbody tr th {\n",
       "        vertical-align: top;\n",
       "    }\n",
       "\n",
       "    .dataframe thead th {\n",
       "        text-align: right;\n",
       "    }\n",
       "</style>\n",
       "<table border=\"1\" class=\"dataframe\">\n",
       "  <thead>\n",
       "    <tr style=\"text-align: right;\">\n",
       "      <th></th>\n",
       "      <th>city</th>\n",
       "      <th>state</th>\n",
       "    </tr>\n",
       "  </thead>\n",
       "  <tbody>\n",
       "    <tr>\n",
       "      <th>0</th>\n",
       "      <td>New York</td>\n",
       "      <td>NY</td>\n",
       "    </tr>\n",
       "    <tr>\n",
       "      <th>0</th>\n",
       "      <td>Boston</td>\n",
       "      <td>MA</td>\n",
       "    </tr>\n",
       "    <tr>\n",
       "      <th>0</th>\n",
       "      <td>Los Angeles</td>\n",
       "      <td>CA</td>\n",
       "    </tr>\n",
       "  </tbody>\n",
       "</table>\n",
       "</div>"
      ],
      "text/plain": [
       "          city state\n",
       "0     New York    NY\n",
       "0       Boston    MA\n",
       "0  Los Angeles    CA"
      ]
     },
     "execution_count": 15,
     "metadata": {},
     "output_type": "execute_result"
    }
   ],
   "source": [
    "# Which cities had, on at least 3 occasions, precipitation of 15 mm or more?\n",
    "\n",
    "# Technique 1: Using a function without extra arguments\n",
    "\n",
    "def has_multiple_readings_at_least(mini_df):\n",
    "    return mini_df.loc[\n",
    "        mini_df['precipMM'] >= 15,\n",
    "        'precipMM'\n",
    "    ].count() >= 3\n",
    "\n",
    "(\n",
    "    df\n",
    "    .groupby(['city', 'state'])\n",
    "    .filter(has_multiple_readings_at_least)\n",
    "    [['city', 'state']]\n",
    "    .drop_duplicates()\n",
    ")"
   ]
  },
  {
   "cell_type": "code",
   "execution_count": 16,
   "metadata": {},
   "outputs": [
    {
     "data": {
      "text/html": [
       "<div>\n",
       "<style scoped>\n",
       "    .dataframe tbody tr th:only-of-type {\n",
       "        vertical-align: middle;\n",
       "    }\n",
       "\n",
       "    .dataframe tbody tr th {\n",
       "        vertical-align: top;\n",
       "    }\n",
       "\n",
       "    .dataframe thead th {\n",
       "        text-align: right;\n",
       "    }\n",
       "</style>\n",
       "<table border=\"1\" class=\"dataframe\">\n",
       "  <thead>\n",
       "    <tr style=\"text-align: right;\">\n",
       "      <th></th>\n",
       "      <th>city</th>\n",
       "      <th>state</th>\n",
       "    </tr>\n",
       "  </thead>\n",
       "  <tbody>\n",
       "    <tr>\n",
       "      <th>0</th>\n",
       "      <td>New York</td>\n",
       "      <td>NY</td>\n",
       "    </tr>\n",
       "    <tr>\n",
       "      <th>0</th>\n",
       "      <td>Boston</td>\n",
       "      <td>MA</td>\n",
       "    </tr>\n",
       "    <tr>\n",
       "      <th>0</th>\n",
       "      <td>Los Angeles</td>\n",
       "      <td>CA</td>\n",
       "    </tr>\n",
       "  </tbody>\n",
       "</table>\n",
       "</div>"
      ],
      "text/plain": [
       "          city state\n",
       "0     New York    NY\n",
       "0       Boston    MA\n",
       "0  Los Angeles    CA"
      ]
     },
     "execution_count": 16,
     "metadata": {},
     "output_type": "execute_result"
    }
   ],
   "source": [
    "# Technique 2: Using a function with extra arguments\n",
    "\n",
    "def has_multiple_readings_at_least(mini_df, min_mm, times):\n",
    "    return mini_df.loc[\n",
    "        mini_df['precipMM'] >= min_mm,\n",
    "        'precipMM'\n",
    "        ].count() >= times\n",
    "\n",
    "(\n",
    "    df\n",
    "    .groupby(['city', 'state'])\n",
    "    .filter(has_multiple_readings_at_least,\n",
    "            min_mm=15,\n",
    "            times=3)\n",
    "    [['city', 'state']]\n",
    "    .drop_duplicates()\n",
    ")"
   ]
  },
  {
   "cell_type": "code",
   "execution_count": 17,
   "metadata": {},
   "outputs": [
    {
     "data": {
      "text/html": [
       "<div>\n",
       "<style scoped>\n",
       "    .dataframe tbody tr th:only-of-type {\n",
       "        vertical-align: middle;\n",
       "    }\n",
       "\n",
       "    .dataframe tbody tr th {\n",
       "        vertical-align: top;\n",
       "    }\n",
       "\n",
       "    .dataframe thead th {\n",
       "        text-align: right;\n",
       "    }\n",
       "</style>\n",
       "<table border=\"1\" class=\"dataframe\">\n",
       "  <thead>\n",
       "    <tr style=\"text-align: right;\">\n",
       "      <th></th>\n",
       "      <th>city</th>\n",
       "      <th>state</th>\n",
       "    </tr>\n",
       "  </thead>\n",
       "  <tbody>\n",
       "    <tr>\n",
       "      <th>0</th>\n",
       "      <td>New York</td>\n",
       "      <td>NY</td>\n",
       "    </tr>\n",
       "    <tr>\n",
       "      <th>0</th>\n",
       "      <td>Boston</td>\n",
       "      <td>MA</td>\n",
       "    </tr>\n",
       "    <tr>\n",
       "      <th>0</th>\n",
       "      <td>Albany</td>\n",
       "      <td>NY</td>\n",
       "    </tr>\n",
       "  </tbody>\n",
       "</table>\n",
       "</div>"
      ],
      "text/plain": [
       "       city state\n",
       "0  New York    NY\n",
       "0    Boston    MA\n",
       "0    Albany    NY"
      ]
     },
     "execution_count": 17,
     "metadata": {},
     "output_type": "execute_result"
    }
   ],
   "source": [
    "\n",
    "# Find cities that had at least 3 measurements of 10 mm precipitation or more, when the temperature was below 0 Celsuius.\n",
    "\n",
    "def has_multiple_readings_at_least(mini_df, min_mm, times):\n",
    "    return mini_df.loc[\n",
    "        ((mini_df['precipMM'] >= min_mm) &\n",
    "         (mini_df['min_temp'] <= 0)),\n",
    "        'precipMM'\n",
    "        ].count() >= times\n",
    "\n",
    "(\n",
    "    df\n",
    "    .groupby(['city', 'state'])\n",
    "    .filter(has_multiple_readings_at_least, min_mm=10, times=3)\n",
    "    [['city', 'state']]\n",
    "    .drop_duplicates()\n",
    ")"
   ]
  },
  {
   "cell_type": "code",
   "execution_count": 18,
   "metadata": {},
   "outputs": [],
   "source": [
    "# For each precipitation measurement, calculate the proportion of that city's total precipitation.\n",
    "def proportion_of_city_precip(s):\n",
    "    return s / s.sum()\n",
    "\n",
    "df['precip_pct'] = (\n",
    "    df\n",
    "    .groupby('city')['precipMM']\n",
    "    .transform(proportion_of_city_precip)\n",
    ")"
   ]
  },
  {
   "cell_type": "code",
   "execution_count": 19,
   "metadata": {},
   "outputs": [
    {
     "data": {
      "text/plain": [
       "city           state\n",
       "Albany         NY       0.029228\n",
       "Boston         MA       0.048302\n",
       "Chicago        IL       0.057257\n",
       "Los Angeles    CA       0.059242\n",
       "New York       NY       0.055149\n",
       "San Francisco  CA       0.056509\n",
       "Springfield    IL       0.030977\n",
       "               MA       0.023459\n",
       "Name: precip_pct, dtype: float64"
      ]
     },
     "execution_count": 19,
     "metadata": {},
     "output_type": "execute_result"
    }
   ],
   "source": [
    "df.groupby(['city', 'state'])['precip_pct'].max()"
   ]
  }
 ],
 "metadata": {
  "kernelspec": {
   "display_name": "Python 3",
   "language": "python",
   "name": "python3"
  },
  "language_info": {
   "codemirror_mode": {
    "name": "ipython",
    "version": 3
   },
   "file_extension": ".py",
   "mimetype": "text/x-python",
   "name": "python",
   "nbconvert_exporter": "python",
   "pygments_lexer": "ipython3",
   "version": "3.11.11"
  }
 },
 "nbformat": 4,
 "nbformat_minor": 2
}
